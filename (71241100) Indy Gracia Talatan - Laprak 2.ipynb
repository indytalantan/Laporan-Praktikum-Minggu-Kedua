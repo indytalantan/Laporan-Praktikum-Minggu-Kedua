{
 "cells": [
  {
   "cell_type": "code",
   "execution_count": 3,
   "id": "3275e399-4d62-4ac7-931f-4b10a256c145",
   "metadata": {},
   "outputs": [
    {
     "name": "stdin",
     "output_type": "stream",
     "text": [
      "Masukkan tinggi badan (m):  1.7\n",
      "Masukkan nilai BMI yang diharapkan:  20\n"
     ]
    },
    {
     "name": "stdout",
     "output_type": "stream",
     "text": [
      "Berat badan yang ideal: 57.80 kg\n"
     ]
    }
   ],
   "source": [
    "#Latihan 2.1\n",
    "def menghitung_berat_badan(tinggi_yang_ideal, target_bmi_nya):\n",
    "    berat_yang_ideal = target_bmi_nya * (tinggi_yang_ideal ** 2)\n",
    "    return berat_yang_ideal\n",
    "\n",
    "tinggi_yang_ideal = float(input(\"Masukkan tinggi badan (m): \"))\n",
    "target_bmi_nya = float(input(\"Masukkan nilai BMI yang diharapkan: \"))\n",
    "\n",
    "berat_badan = menghitung_berat_badan(tinggi_yang_ideal, target_bmi_nya)\n",
    "print(f\"Berat badan yang ideal: {berat_badan:.2f} kg\")"
   ]
  },
  {
   "cell_type": "code",
   "execution_count": 1,
   "id": "282a6ef9-e92e-4c41-8250-1543051b2d96",
   "metadata": {},
   "outputs": [
    {
     "name": "stdin",
     "output_type": "stream",
     "text": [
      "Nilai x berjumlah   7\n"
     ]
    },
    {
     "name": "stdout",
     "output_type": "stream",
     "text": [
      "Maka, hasilnya adalah 702.14\n"
     ]
    }
   ],
   "source": [
    "#Latihan 2.2\n",
    "def hitungan():\n",
    "    x = int(input(\"Nilai x berjumlah  \"))\n",
    "    menghitung = 2*x**3 + 2*x + 15/x\n",
    "    return menghitung\n",
    "jumlah = hitungan()\n",
    "print(f\"Maka, hasilnya adalah {jumlah:.2f}\")"
   ]
  },
  {
   "cell_type": "code",
   "execution_count": 7,
   "id": "8dc7e211-ae3e-40a9-b5f2-e6ac39a5b010",
   "metadata": {},
   "outputs": [
    {
     "name": "stdin",
     "output_type": "stream",
     "text": [
      "Gaji per jam yang anda inginkan: 37000\n",
      "Jumlah jam kerja yang akan dilakukan dalam 1 minggu : 20\n"
     ]
    },
    {
     "name": "stdout",
     "output_type": "stream",
     "text": [
      "Pendapatan Budi selama libur musim panas sebelum melakukan pembayaran pajak: Rp. 3700000\n",
      "Pendapatan Budi selama libur musim panas setelah melakukan pembayaran pajak: Rp. 3182000\n",
      "Jumlah uang yang akan Budi habiskan untuk membeli pakaian dan aksesoris: Rp. 318200\n",
      "Jumlah uang yang akan Budi habiskan untuk membeli alat tulis: Rp. 28638\n",
      "Jumlah uang yang akan Budi sedekahkan: Rp. 708790\n",
      "Jumlah uang yang akan diterima anak yatim: Rp. 212637\n",
      "Jumlah uang yang akan diterima kaum dhuafa: Rp. 496153\n"
     ]
    }
   ],
   "source": [
    "gaji_perjam = int(input(\"Gaji per jam yang anda inginkan:\"))\n",
    "jam_kerja = int(input(\"Jumlah jam kerja yang akan dilakukan dalam 1 minggu :\"))\n",
    "\n",
    "total_pendapatan = gaji_perjam * jam_kerja * 5\n",
    "print(\"Pendapatan Budi selama libur musim panas sebelum melakukan pembayaran pajak: Rp.\", int(total_pendapatan))\n",
    "\n",
    "#tidak dapat langsung menggunakan 14% karena % dalam beberapa pemograman adalah mod, salah satunya python\n",
    "total_pendapatan_kedua = total_pendapatan - (total_pendapatan * (14 / 100))\n",
    "print(\"Pendapatan Budi selama libur musim panas setelah melakukan pembayaran pajak: Rp.\", int(total_pendapatan_kedua))\n",
    "\n",
    "aksesoris_pakaian_budi = total_pendapatan_kedua * (10 / 100)\n",
    "print(\"Jumlah uang yang akan Budi habiskan untuk membeli pakaian dan aksesoris: Rp.\", int(aksesoris_pakaian_budi))\n",
    "\n",
    "total_pendapatan_ketiga = total_pendapatan_kedua - aksesoris_pakaian_budi\n",
    "alat_tulis_budi = total_pendapatan_ketiga * (1 / 100)\n",
    "print(\"Jumlah uang yang akan Budi habiskan untuk membeli alat tulis: Rp.\", int(alat_tulis_budi))\n",
    "\n",
    "total_pendapatan_keempat = total_pendapatan_ketiga - alat_tulis_budi\n",
    "memberi_sedekah = total_pendapatan_keempat * (25/ 100)\n",
    "print(\"Jumlah uang yang akan Budi sedekahkan: Rp.\", int(memberi_sedekah))\n",
    "\n",
    "untuk_yatim = memberi_sedekah * (30 / 100) \n",
    "untuk_dhuafa = memberi_sedekah - untuk_yatim\n",
    "print(\"Jumlah uang yang akan diterima anak yatim: Rp.\", int(untuk_yatim))\n",
    "print(\"Jumlah uang yang akan diterima kaum dhuafa: Rp.\", int(untuk_dhuafa))"
   ]
  },
  {
   "cell_type": "code",
   "execution_count": null,
   "id": "8f959669-8ab5-4457-a4da-e0347c7c41ab",
   "metadata": {},
   "outputs": [],
   "source": []
  }
 ],
 "metadata": {
  "kernelspec": {
   "display_name": "Python [conda env:base] *",
   "language": "python",
   "name": "conda-base-py"
  },
  "language_info": {
   "codemirror_mode": {
    "name": "ipython",
    "version": 3
   },
   "file_extension": ".py",
   "mimetype": "text/x-python",
   "name": "python",
   "nbconvert_exporter": "python",
   "pygments_lexer": "ipython3",
   "version": "3.12.7"
  }
 },
 "nbformat": 4,
 "nbformat_minor": 5
}
